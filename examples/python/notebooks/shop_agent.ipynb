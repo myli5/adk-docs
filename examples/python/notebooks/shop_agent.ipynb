{
  "cells": [
    {
      "cell_type": "markdown",
      "id": "jLQ7lbhwrGFA",
      "metadata": {
        "id": "jLQ7lbhwrGFA"
      },
      "source": [
        "# Build an e-commerce recommendation AI agents with ADK + Vector Search\n",
        "\n",
        "Original Author(s): [Kaz Sato](https://github.com/kazunori279)\n",
        "\n",
        "In this tutorial, we will explore how to build a simple multi-agent system for an e-commerce site, designed to offer the \"Generative Recommendations\" you find in the [Shopper's Concierge demo](https://www.youtube.com/watch?v=LwHPYyw7u6U). A step-by-step guide video is also available [here](https://youtu.be/07GX28rk7Yc).\n",
        "\n",
        "### What is Generative Recommendation?\n",
        "\n",
        "Generative Recommendation refers to the AI's ability to not only retrieve items directly matching a user's explicit search query but also to **intelligently infer, expand upon, or create new search queries and item suggestions based on a deeper understanding of the user's intent, external research, or contextual information.**\n",
        "\n",
        "Here's a breakdown of its capabilities as demonstrated:\n",
        "\n",
        "1.  **Understanding and Expanding User Intent:** Instead of simply taking a direct query, the system can interpret the underlying need. For instance, when a user asks for a \"birthday present for 10 years old boy,\" the AI doesn't just search for those exact keywords.\n",
        "2.  **Leveraging External Research (Google Search):** The \"Generative Recommendation\" process involves using tools like Google Search to perform market research. This allows the AI to understand what kind of items are generally purchased for a given intent (e.g., popular gifts for 10-year-old boys).\n",
        "3.  **Generating New Queries:** Based on this research, the AI actively *generates* a list of more specific and diverse search queries. These generated queries go beyond the initial user input, aiming to broaden the search and find more relevant results (e.g., \"educational toys for 10-year-olds,\" \"adventure books for boys,\" \"coding kits for kids\").\n",
        "\n",
        "In essence, \"Generative Recommendation\" moves beyond simple keyword matching to a more dynamic and intelligent approach where the AI proactively assists the user by generating new ideas and relevant search paths to help them discover desired products.\n",
        "\n",
        "In the end, we will build an agent system that works in the following flow:\n",
        "\n",
        "![Shop agent sequence diagram](https://github.com/myli5/adk-docs/blob/main/docs/assets/shop_agent.png?raw=1)\n",
        "\n",
        "<!-- Mermaid code for the diagram\n",
        "sequenceDiagram\n",
        "   participant User\n",
        "   participant Shop Agent\n",
        "   participant Research Agent\n",
        "   participant Google Search\n",
        "   participant find_shopping_items\n",
        "   participant Vector Search\n",
        "\n",
        "   User->>Shop Agent: Any birthday present for my son?\n",
        "   activate Shop Agent\n",
        "   Shop Agent->>Research Agent: Any birthday present for my son?\n",
        "   activate Research Agent\n",
        "   Research Agent->>Google Search: search on birthday presents for boys\n",
        "   activate Google Search\n",
        "   Google Search->>Research Agent: search results\n",
        "   deactivate Google Search\n",
        "   Research Agent->>Research Agent: generate 5 queries\n",
        "   Research Agent->>Shop Agent: \"STEM Toys\", \"Lego sets\"...\n",
        "   deactivate Research Agent\n",
        "   Shop Agent->>User: Here are the suggested queries: \"STEM Toys\", \"Lego sets\"...\n",
        "   Shop Agent->>User: Is it OK to search with those queries?\n",
        "   deactivate Shop Agent\n",
        "\n",
        "   activate Shop Agent\n",
        "   User->>Shop Agent: Yes, please!\n",
        "   activate find_shopping_items\n",
        "   Shop Agent->>find_shopping_items: \"STEM Toys\", \"Lego sets\"...\n",
        "   activate Vector Search\n",
        "   find_shopping_items->>Vector Search: \"STEM Toys\", \"Lego sets\"...\n",
        "   Vector Search->>find_shopping_items: \"Kids Walkie talkies\", \"Minecraft Explorers Pack\"...\n",
        "   deactivate Vector Search\n",
        "   find_shopping_items->>Shop Agent : \"Kids Walkie talkies\", \"Minecraft Explorers Pack\"...\n",
        "   deactivate find_shopping_items\n",
        "   Shop Agent->>User : \"Kids Walkie talkies\", \"Minecraft Explorers Pack\"...\n",
        "   deactivate Shop Agent\n",
        "-->"
      ]
    },
    {
      "cell_type": "markdown",
      "id": "ZyK62QElQv_K",
      "metadata": {
        "id": "ZyK62QElQv_K"
      },
      "source": [
        "## Install ADK\n",
        "\n",
        "First, we will install the ADK. In Colab Enterprise, you may see `ERROR: pip's dependency resolver does...` but you can ignore it."
      ]
    },
    {
      "cell_type": "code",
      "execution_count": 1,
      "id": "oeSkwKPttGh5YTX79KT9oM0E",
      "metadata": {
        "id": "oeSkwKPttGh5YTX79KT9oM0E",
        "tags": [],
        "outputId": "61fb6d82-0425-4483-99c4-84bdd1576b89",
        "colab": {
          "base_uri": "https://localhost:8080/"
        }
      },
      "outputs": [
        {
          "output_type": "stream",
          "name": "stdout",
          "text": [
            "\u001b[?25l   \u001b[90m━━━━━━━━━━━━━━━━━━━━━━━━━━━━━━━━━━━━━━━━\u001b[0m \u001b[32m0.0/1.3 MB\u001b[0m \u001b[31m?\u001b[0m eta \u001b[36m-:--:--\u001b[0m\r\u001b[2K   \u001b[91m━━━━\u001b[0m\u001b[91m╸\u001b[0m\u001b[90m━━━━━━━━━━━━━━━━━━━━━━━━━━━━━━━━━━━\u001b[0m \u001b[32m0.2/1.3 MB\u001b[0m \u001b[31m5.3 MB/s\u001b[0m eta \u001b[36m0:00:01\u001b[0m\r\u001b[2K   \u001b[91m━━━━━━━━━━━━━━━━━━━━━━━━━━━\u001b[0m\u001b[91m╸\u001b[0m\u001b[90m━━━━━━━━━━━━\u001b[0m \u001b[32m0.9/1.3 MB\u001b[0m \u001b[31m12.9 MB/s\u001b[0m eta \u001b[36m0:00:01\u001b[0m\r\u001b[2K   \u001b[91m━━━━━━━━━━━━━━━━━━━━━━━━━━━━━━━━━━━━━━━\u001b[0m\u001b[91m╸\u001b[0m \u001b[32m1.3/1.3 MB\u001b[0m \u001b[31m15.9 MB/s\u001b[0m eta \u001b[36m0:00:01\u001b[0m\r\u001b[2K   \u001b[90m━━━━━━━━━━━━━━━━━━━━━━━━━━━━━━━━━━━━━━━━\u001b[0m \u001b[32m1.3/1.3 MB\u001b[0m \u001b[31m10.8 MB/s\u001b[0m eta \u001b[36m0:00:00\u001b[0m\n",
            "\u001b[?25h"
          ]
        }
      ],
      "source": [
        "%pip install --upgrade google-adk==1.4.2 -q"
      ]
    },
    {
      "cell_type": "markdown",
      "id": "WoqdAfBRrRcR",
      "metadata": {
        "id": "WoqdAfBRrRcR"
      },
      "source": [
        "### Import the libraries"
      ]
    },
    {
      "cell_type": "code",
      "execution_count": 2,
      "id": "M22ecOwlgdYZ",
      "metadata": {
        "id": "M22ecOwlgdYZ"
      },
      "outputs": [],
      "source": [
        "# Import necessary libraries\n",
        "import os\n",
        "import logging\n",
        "import asyncio\n",
        "from google.adk.agents import Agent\n",
        "from google.adk.runners import Runner\n",
        "from google.adk.sessions import  InMemorySessionService\n",
        "from google.adk.tools.agent_tool import AgentTool\n",
        "from google.genai import types\n",
        "\n",
        "# Ignore warnings from ADK and Gemini APIs\n",
        "logging.getLogger(\"google.adk.runners\").setLevel(logging.ERROR)\n",
        "logging.getLogger(\"google_genai.types\").setLevel(logging.ERROR)"
      ]
    },
    {
      "cell_type": "markdown",
      "id": "11963108",
      "metadata": {
        "id": "11963108"
      },
      "source": [
        "### Set environment variables\n",
        "\n",
        "Get an API key from [Google AI Studio](https://aistudio.google.com/apikey), set the key to the following `GOOGLE_API_KEY`, and run the cell to set the environment variables required for running ADK."
      ]
    },
    {
      "cell_type": "code",
      "execution_count": 3,
      "id": "bb4b79a7",
      "metadata": {
        "id": "bb4b79a7",
        "outputId": "58dbbe83-2c89-40b6-db41-c18b66f46ee8",
        "colab": {
          "base_uri": "https://localhost:8080/"
        }
      },
      "outputs": [
        {
          "name": "stdout",
          "output_type": "stream",
          "text": [
            "Enter your Gemini API Key: ··········\n"
          ]
        }
      ],
      "source": [
        "from getpass import getpass\n",
        "\n",
        "# Set environment variables required for running ADK (with Gemini API Key)\n",
        "os.environ[\"GOOGLE_GENAI_USE_VERTEXAI\"] = \"False\"\n",
        "os.environ[\"GOOGLE_API_KEY\"] = getpass(\"Enter your Gemini API Key: \")\n",
        "\n",
        "# To use Vertex AI instead of Gemini API Key in Colab Enterprise or Cloud Workbench, use the following:\n",
        "#[PROJECT_ID] = !gcloud config list --format \"value(core.project)\"\n",
        "#os.environ[\"GOOGLE_CLOUD_PROJECT\"] = PROJECT_ID\n",
        "#os.environ[\"GOOGLE_CLOUD_LOCATION\"] = \"us-central1\"\n",
        "#os.environ[\"GOOGLE_GENAI_USE_VERTEXAI\"] = \"True\""
      ]
    },
    {
      "cell_type": "markdown",
      "id": "ynPYDwqjrVaa",
      "metadata": {
        "id": "ynPYDwqjrVaa"
      },
      "source": [
        "## Define **test_agent** function for testing agents\n",
        "\n",
        "For testing the agents we will build, we need to define a function `test_agent` that uses `Runner` and `SessionService` to emulate an agent runtime environment. To learn more about the agent runtime, see the [Agent Runtime](https://google.github.io/adk-docs/runtime/) doc."
      ]
    },
    {
      "cell_type": "code",
      "execution_count": 4,
      "id": "DFy28Xv38Ngu",
      "metadata": {
        "id": "DFy28Xv38Ngu"
      },
      "outputs": [],
      "source": [
        "from google.genai import types\n",
        "\n",
        "# Define the app_name, user_id and session_id for testing the agents\n",
        "APP_NAME = \"shop_concierge_app\"\n",
        "USER_ID = \"user_1\"\n",
        "\n",
        "session_service = InMemorySessionService()\n",
        "\n",
        "async def test_agent(query, agent):\n",
        "  \"\"\"Sends a query to the agent and prints the final response.\"\"\"\n",
        "\n",
        "  print(f\"\\n>>> User Query: {query}\")\n",
        "\n",
        "  # Create a session\n",
        "  session = await session_service.create_session(\n",
        "    app_name=APP_NAME,\n",
        "    user_id=USER_ID,\n",
        "  )\n",
        "\n",
        "  # Create a Runner\n",
        "  runner = Runner(\n",
        "      app_name=APP_NAME,\n",
        "      agent=agent,\n",
        "      session_service=session_service,\n",
        "  )\n",
        "\n",
        "  # Prepare the user's message in ADK format\n",
        "  content = types.Content(role='user', parts=[types.Part(text=query)])\n",
        "\n",
        "  final_response_text = None\n",
        "  # We iterate through events from run_async to find the final answer.\n",
        "  async for event in runner.run_async(user_id=USER_ID, session_id=session.id, new_message=content):\n",
        "      if event.is_final_response():\n",
        "          if event.content and event.content.parts:\n",
        "             final_response_text = event.content.parts[0].text\n",
        "          break\n",
        "  print(f\"<<< Agent Response: {final_response_text}\")"
      ]
    },
    {
      "cell_type": "markdown",
      "id": "TcVBA98xra0i",
      "metadata": {
        "id": "TcVBA98xra0i"
      },
      "source": [
        "## Define an **Shop agent**\n",
        "\n",
        "Let's define a shop agent and test it. Note that this agent does not have any search capability at this time."
      ]
    },
    {
      "cell_type": "code",
      "execution_count": 5,
      "id": "em9XplVkggtO",
      "metadata": {
        "id": "em9XplVkggtO"
      },
      "outputs": [],
      "source": [
        "instruction = f'''\n",
        "    Your role is a shop search agent on an e-commerce site with millions of\n",
        "    items. Your responsibility is to search items based on user queries.\n",
        "'''\n",
        "\n",
        "shop_agent = Agent(\n",
        "    model='gemini-2.5-flash',\n",
        "    name='shop_agent',\n",
        "    description=(\n",
        "        'Shop agent for an e-commerce site'\n",
        "    ),\n",
        "    instruction=instruction,\n",
        ")"
      ]
    },
    {
      "cell_type": "code",
      "execution_count": null,
      "id": "aJGpLk7P-BQP",
      "metadata": {
        "colab": {
          "base_uri": "https://localhost:8080/"
        },
        "id": "aJGpLk7P-BQP",
        "outputId": "55606e8e-f663-4f7c-c1fb-1af5a5ec6817"
      },
      "outputs": [
        {
          "name": "stdout",
          "output_type": "stream",
          "text": [
            "\n",
            ">>> User Query: What kind of site is this?\n",
            "<<< Agent Response: I am a shop agent for an e-commerce site with millions of items.\n",
            "\n"
          ]
        }
      ],
      "source": [
        "await test_agent(\"What kind of site is this?\", shop_agent)"
      ]
    },
    {
      "cell_type": "markdown",
      "id": "zcJJw0m6re_K",
      "metadata": {
        "id": "zcJJw0m6re_K"
      },
      "source": [
        "## Define **call_vector_search** to call the Vector Search backend\n",
        "\n",
        "With the basic agent above, we would like to add an item search capability. To achieve this, here we define a function `call_query_api` that sends an HTTP request to a REST endpoint provided by the [Vector Search Interactive demo](https://cloud.google.com/vertex-ai/docs/vector-search/try-it). For the detail of each parameter sent to the endpoint, refer to the demo page."
      ]
    },
    {
      "cell_type": "code",
      "execution_count": 6,
      "id": "y75WYLNchHPD",
      "metadata": {
        "id": "y75WYLNchHPD"
      },
      "outputs": [],
      "source": [
        "import requests\n",
        "import json\n",
        "\n",
        "def call_vector_search(url, query, rows=None):\n",
        "    \"\"\"\n",
        "    Calls the Vector Search backend for querying.\n",
        "\n",
        "    Args:\n",
        "        url (str): The URL of the search endpoint.\n",
        "        query (str): The query string.\n",
        "        rows (int, optional): The number of result rows to return. Defaults to None.\n",
        "\n",
        "    Returns:\n",
        "        dict: The JSON response from the API.\n",
        "    \"\"\"\n",
        "\n",
        "    # Build HTTP headers and a payload\n",
        "    headers = {'Content-Type': 'application/json'}\n",
        "    payload = {\n",
        "        \"query\": query,\n",
        "        \"rows\": rows,\n",
        "        \"dataset_id\": \"mercari3m_mm\", # Use Mercari 3M multimodal index\n",
        "        \"use_dense\": True, # Use multimodal search\n",
        "        \"use_sparse\": True, # Use keyword search too\n",
        "        \"rrf_alpha\": 0.5, # Both results are merged with the same weights\n",
        "        \"use_rerank\": True, # Use Ranking API for reranking\n",
        "    }\n",
        "\n",
        "    # Send an HTTP request to the search endpoint\n",
        "    try:\n",
        "        response = requests.post(url, headers=headers, data=json.dumps(payload))\n",
        "        response.raise_for_status()  # Raise an exception for bad status codes\n",
        "        return response.json()\n",
        "    except requests.exceptions.RequestException as e:\n",
        "        print(f\"Error calling the API: {e}\")\n",
        "        return None"
      ]
    },
    {
      "cell_type": "markdown",
      "id": "VQzZRzYdrtKg",
      "metadata": {
        "id": "VQzZRzYdrtKg"
      },
      "source": [
        "## Define **find_shopping_items** tool\n",
        "\n",
        "Now, we will wrap the `call_vector_search` function with an ADK Tool named `find_shopping_items`. Note that we need to 1) use the explicit typing such as `queries: list[str]` and 2) use the verbose docstring, both for conveying the functionality and semantics of this Tool to the agent.\n",
        "\n",
        "For details of the Tool mechanism of ADK, refer to the [Tools](https://google.github.io/adk-docs/tools/) in the ADK docs."
      ]
    },
    {
      "cell_type": "code",
      "execution_count": 8,
      "id": "D7Vj4_-aiykD",
      "metadata": {
        "id": "D7Vj4_-aiykD"
      },
      "outputs": [],
      "source": [
        "from typing import Dict\n",
        "\n",
        "def find_shopping_items(queries: list[str]) -> Dict[str, str]:\n",
        "    \"\"\"\n",
        "    Find shopping items from the e-commerce site with the specified list of\n",
        "    queries.\n",
        "\n",
        "    Args:\n",
        "        queries: the list of queries to run.\n",
        "    Returns:\n",
        "        A dict with the following one property:\n",
        "            - \"status\": returns the following status:\n",
        "                - \"success\": successful execution\n",
        "            - \"items\": items found in the e-commerce site.\n",
        "    \"\"\"\n",
        "    url = \"https://www.ac0.cloudadvocacyorg.joonix.net/api/query\"\n",
        "\n",
        "    items = []\n",
        "    for query in queries:\n",
        "        result = call_vector_search(\n",
        "            url=url,\n",
        "            query=query,\n",
        "            rows=3,\n",
        "        )\n",
        "        items.extend(result[\"items\"])\n",
        "\n",
        "    print(\"-----\")\n",
        "    print(f\"User queries: {queries}\")\n",
        "    print(f\"Found: {len(items)} items\")\n",
        "    print(\"-----\")\n",
        "\n",
        "    return items"
      ]
    },
    {
      "cell_type": "markdown",
      "id": "_2bMByoWX8De",
      "metadata": {
        "id": "_2bMByoWX8De"
      },
      "source": [
        "Let's test this tool."
      ]
    },
    {
      "cell_type": "code",
      "execution_count": 9,
      "id": "KMWwG9CJl0zR",
      "metadata": {
        "colab": {
          "base_uri": "https://localhost:8080/"
        },
        "id": "KMWwG9CJl0zR",
        "outputId": "43db5ae8-c8e0-4e08-8bd4-328275178772"
      },
      "outputs": [
        {
          "output_type": "stream",
          "name": "stdout",
          "text": [
            "-----\n",
            "User queries: ['Cups with dancing people', 'Cups with dancing animals']\n",
            "Found: 6 items\n",
            "-----\n"
          ]
        },
        {
          "output_type": "execute_result",
          "data": {
            "text/plain": [
              "[{'dense_dist': 0.0,\n",
              "  'description': 'Free People Womens Sunset Dancing Dress Pink Size M\\n\\nBrand : Free People \\nStyle : Sunset Dancing Dress\\nColor : Pink\\nSize : M\\nSku No : 9968\\ncondition : New Without Tag\\nBeaded tie detail\\nLadder lace insert at waist\\nFully lined',\n",
              "  'id': 'm47216877271',\n",
              "  'img_url': 'https://u-mercari-images.mercdn.net/photos/m47216877271_1.jpg?w=200&h=200&fitcrop&sharpen',\n",
              "  'name': 'Free People Womens Sunset Dancing Dress Pink Size M',\n",
              "  'rerank_score': 0.0,\n",
              "  'sparse_dist': 0.4827784597873688,\n",
              "  'url': 'https://www.mercari.com/us/item/m47216877271'},\n",
              " {'dense_dist': 0.20211432874202728,\n",
              "  'description': 'Vintage hardanger dancer bergquist figgjo coffee mugs',\n",
              "  'id': 'm10172014563',\n",
              "  'img_url': 'https://u-mercari-images.mercdn.net/photos/m10172014563_1.jpg?w=200&h=200&fitcrop&sharpen',\n",
              "  'name': 'Vintage Berquist Figgjo coffee mugs',\n",
              "  'rerank_score': 0.0,\n",
              "  'sparse_dist': None,\n",
              "  'url': 'https://www.mercari.com/us/item/m10172014563'},\n",
              " {'dense_dist': 0.0,\n",
              "  'description': 'Brand new / dancing figure',\n",
              "  'id': 'm11326867382',\n",
              "  'img_url': 'https://u-mercari-images.mercdn.net/photos/m11326867382_1.jpg?w=200&h=200&fitcrop&sharpen',\n",
              "  'name': 'Hello Kitty Dancing figure',\n",
              "  'rerank_score': 0.0,\n",
              "  'sparse_dist': 0.47520145773887634,\n",
              "  'url': 'https://www.mercari.com/us/item/m11326867382'},\n",
              " {'dense_dist': 0.0,\n",
              "  'description': 'Brand new / dancing figure',\n",
              "  'id': 'm11326867382',\n",
              "  'img_url': 'https://u-mercari-images.mercdn.net/photos/m11326867382_1.jpg?w=200&h=200&fitcrop&sharpen',\n",
              "  'name': 'Hello Kitty Dancing figure',\n",
              "  'rerank_score': 0.0,\n",
              "  'sparse_dist': 0.4476025104522705,\n",
              "  'url': 'https://www.mercari.com/us/item/m11326867382'},\n",
              " {'dense_dist': 0.25508207082748413,\n",
              "  'description': 'Gold rim on top\\nNo cracks or chips \\nExcellent condition \\nNo marks inside cup\\nLike new\\nNon smoking home',\n",
              "  'id': 'm71882643462',\n",
              "  'img_url': 'https://u-mercari-images.mercdn.net/photos/m71882643462_1.jpg?w=200&h=200&fitcrop&sharpen',\n",
              "  'name': 'VINTAGE Walt Disney ARISTOCATS Gold Rim Coffee Mugs Cup Teacup (Japan)',\n",
              "  'rerank_score': 0.0,\n",
              "  'sparse_dist': None,\n",
              "  'url': 'https://www.mercari.com/us/item/m71882643462'},\n",
              " {'dense_dist': 0.0,\n",
              "  'description': 'The best of the animals',\n",
              "  'id': 'm30120116854',\n",
              "  'img_url': 'https://u-mercari-images.mercdn.net/photos/m30120116854_1.jpg?w=200&h=200&fitcrop&sharpen',\n",
              "  'name': 'The animals record(original)',\n",
              "  'rerank_score': 0.0,\n",
              "  'sparse_dist': 0.4455285668373108,\n",
              "  'url': 'https://www.mercari.com/us/item/m30120116854'}]"
            ]
          },
          "metadata": {},
          "execution_count": 9
        }
      ],
      "source": [
        "find_shopping_items([\"Cups with dancing people\", \"Cups with dancing animals\"])"
      ]
    },
    {
      "cell_type": "markdown",
      "id": "S1E0TEB7ryBe",
      "metadata": {
        "id": "S1E0TEB7ryBe"
      },
      "source": [
        "## Add the tool to **Shop agent**\n",
        "\n",
        "It's ready to add the Tool to the Shop agent. The following parts are added:\n",
        "\n",
        "- Addition to the `instruction`: `To find items use find_shopping_items tool by passing a list of queries, and answer to the user with item's name, description and img_url`\n",
        "- Adding `tools` parameter to the `Agent` constructor: `tools=[find_shopping_items]`\n",
        "\n"
      ]
    },
    {
      "cell_type": "code",
      "execution_count": 10,
      "id": "sHVv95QUnDHE",
      "metadata": {
        "id": "sHVv95QUnDHE"
      },
      "outputs": [],
      "source": [
        "instruction = f'''\n",
        "    Your role is a shop search agent on an e-commerce site with millions of\n",
        "    items. Your responsibility is to search items based on the queries you\n",
        "    recieve.\n",
        "\n",
        "    To find items use `find_shopping_items` tool by passing a list of queries,\n",
        "    and answer to the user with item's name, description and img_url\n",
        "'''\n",
        "\n",
        "shop_agent = Agent(\n",
        "    model='gemini-2.5-flash',\n",
        "    name='shop_agent',\n",
        "    description=(\n",
        "        'Shop agent for an e-commerce site'\n",
        "    ),\n",
        "    instruction=instruction,\n",
        "    tools=[find_shopping_items],\n",
        ")"
      ]
    },
    {
      "cell_type": "markdown",
      "id": "Q2jMH45yY540",
      "metadata": {
        "id": "Q2jMH45yY540"
      },
      "source": [
        "Let's test the agent."
      ]
    },
    {
      "cell_type": "code",
      "execution_count": 11,
      "id": "L4CpsCzWnfIj",
      "metadata": {
        "colab": {
          "base_uri": "https://localhost:8080/"
        },
        "id": "L4CpsCzWnfIj",
        "outputId": "5f7d1622-0c62-46b2-d257-1380f820f087"
      },
      "outputs": [
        {
          "output_type": "stream",
          "name": "stdout",
          "text": [
            "\n",
            ">>> User Query: Cups with dancing figures\n",
            "-----\n",
            "User queries: ['Cups with dancing figures']\n",
            "Found: 3 items\n",
            "-----\n",
            "<<< Agent Response: Here are some items that might interest you:\n",
            "\n",
            "*   **Name**: Easter Decor Dancing Solar items lot of 4 Solar Figures\n",
            "    **Description**: Set of 4 cool Solar Moving Easter Decorations.\n",
            "    Dancing Rabbit in Egg\n",
            "    Dancing Male Bunny in Car\n",
            "    Dancing Girl Bunny in Car\n",
            "    Dancing Hatching Chicken\n",
            "\n",
            "    4.5 inch tall\n",
            "\n",
            "    Mer 2\n",
            "    **Image URL**: https://u-mercari-images.mercdn.net/photos/m70687026186_1.jpg?w=200&h=200&fitcrop&sharpen\n",
            "\n",
            "*   **Name**: Mayfair Collection By Jay-African Ladies/Baskets/Sun- Tea/Coffee Cup/Mug\n",
            "    **Description**: Mayfair Collection By Jay-African Ladies/Baskets/Sun- Tea/Coffee Cup/Mug.\n",
            "    The mugs are in very good pre-owned condition with no cracks, chips, crazing, or visible scratches. There may be worn consistent with normal use as this is a preloved item. Please view photos carefully for condition. This item presents as it has not been used much.\n",
            "\n",
            "    Dimensions:\n",
            "    4.25\" tall x 4.5\" wide with handle x 3.25\" across\n",
            "\n",
            "    NON-SMOKING AND PET-FREE\n",
            "    pre-owned Items are washed and professionally cleaned before being mailed out to customers.\n",
            "\n",
            "    Please check my other listings for more great items. I am always happy to combine items from multiple purchases whenever possible to save you $$$ on shipping costs. Message me if you have any questions.\n",
            "    Note: Shop More Save More!!!\n",
            "    All reasonable offers will be accepted, no lowball offers, please.\n",
            "    **Image URL**: https://u-mercari-images.mercdn.net/photos/m83437179830_1.jpg?w=200&h=200&fitcrop&sharpen\n",
            "\n",
            "*   **Name**: Vintage Berquist Figgjo coffee mugs\n",
            "    **Description**: Vintage hardanger dancer bergquist figgjo coffee mugs\n",
            "    **Image URL**: https://u-mercari-images.mercdn.net/photos/m10172014563_1.jpg?w=200&h=200&fitcrop&sharpen\n"
          ]
        }
      ],
      "source": [
        "await test_agent(\"Cups with dancing figures\", shop_agent)"
      ]
    },
    {
      "cell_type": "markdown",
      "id": "IoKVQ8vcr2zL",
      "metadata": {
        "id": "IoKVQ8vcr2zL"
      },
      "source": [
        "## Define **Research agent** with Google Search grounding\n",
        "\n",
        "Next, we will define another agent `research_agent`. This agent will take the user query and use the built-in Google Search tool for researching on what kind of items people are purchasing for the user's intent. Then generate 5 queries for finding those items.\n",
        "\n",
        "Note that the following agent definition specifies `google_search` as a tool. With this, the agent obtains a capability to use Google Search. For details about the Google Search tool, refer to [Google Search](https://google.github.io/adk-docs/tools/built-in-tools/#google-search) on the ADK docs."
      ]
    },
    {
      "cell_type": "code",
      "execution_count": 12,
      "id": "cL-EDlNtoRk5",
      "metadata": {
        "id": "cL-EDlNtoRk5"
      },
      "outputs": [],
      "source": [
        "from google.adk.tools import google_search\n",
        "\n",
        "instruction = f'''\n",
        "    Your role is a market researcher for an e-commerce site with millions of\n",
        "    items.\n",
        "\n",
        "    When you recieved a search request from an user, use Google Search tool to\n",
        "    research on what kind of items people are purchasing for the user's intent.\n",
        "\n",
        "    Then, generate 5 queries finding those items on the e-commerce site and\n",
        "    return them.\n",
        "'''\n",
        "\n",
        "research_agent = Agent(\n",
        "    model='gemini-2.5-flash',\n",
        "    name='research_agent',\n",
        "    description=('''\n",
        "        A market researcher for an e-commerce site. Receives a search request\n",
        "        from a user, and returns a list of 5 generated queries in English.\n",
        "    '''),\n",
        "    instruction=instruction,\n",
        "    tools=[google_search],\n",
        ")"
      ]
    },
    {
      "cell_type": "markdown",
      "id": "-i3ou53eivrP",
      "metadata": {
        "id": "-i3ou53eivrP"
      },
      "source": [
        "Let's test the agent."
      ]
    },
    {
      "cell_type": "code",
      "execution_count": 13,
      "id": "0FYYM9zLpJ2L",
      "metadata": {
        "colab": {
          "base_uri": "https://localhost:8080/"
        },
        "id": "0FYYM9zLpJ2L",
        "outputId": "84e7459c-2394-4d65-fc8e-2789ff017ab7"
      },
      "outputs": [
        {
          "output_type": "stream",
          "name": "stdout",
          "text": [
            "\n",
            ">>> User Query: birthday present for 10 years old boy\n",
            "<<< Agent Response: Here are 5 queries to find birthday presents for a 10-year-old boy on an e-commerce site, based on popular gift ideas for this age group:\n",
            "\n",
            "1.  \"LEGO Minecraft building sets for boys\"\n",
            "2.  \"STEM kits for 10 year old boys\"\n",
            "3.  \"Outdoor games for active 10 year olds\"\n",
            "4.  \"Strategy board games for 10+ year olds\"\n",
            "5.  \"Remote control cars and drones for boys age 10\"\n"
          ]
        }
      ],
      "source": [
        "await test_agent(\"birthday present for 10 years old boy\", research_agent)"
      ]
    },
    {
      "cell_type": "markdown",
      "id": "qlgJf8sGwnDl",
      "metadata": {
        "id": "qlgJf8sGwnDl"
      },
      "source": [
        "## Finalize the **Shop agent**\n",
        "\n",
        "To wrap up, we modify the `shop_agent` to use both `reseach_agent` and `find_shopping_items` tool."
      ]
    },
    {
      "cell_type": "code",
      "execution_count": 14,
      "id": "gnsNNcSbwi5e",
      "metadata": {
        "id": "gnsNNcSbwi5e"
      },
      "outputs": [],
      "source": [
        "instruction = f'''\n",
        "    Your role is a shopper's concierge for an e-commerce site with millions of\n",
        "    items. Follow the following steps.\n",
        "\n",
        "    When you recieved a search request from an user, pass it to `research_agent`\n",
        "    tool, and receive 5 generated queries. Then, pass the list of queries to\n",
        "    `find_shopping_items` to find items. When you recieved a list of items from\n",
        "    the tool, answer to the user with item's name, description and the image url.\n",
        "'''\n",
        "\n",
        "shop_agent = Agent(\n",
        "    model='gemini-2.5-flash',\n",
        "    name='shop_agent',\n",
        "    description=(\n",
        "        'A shopper\\'s concierge for an e-commerce site'\n",
        "    ),\n",
        "    instruction=instruction,\n",
        "    tools=[\n",
        "        AgentTool(agent=research_agent),\n",
        "        find_shopping_items,\n",
        "    ],\n",
        ")"
      ]
    },
    {
      "cell_type": "markdown",
      "id": "FQh_PCsInr7V",
      "metadata": {
        "id": "FQh_PCsInr7V"
      },
      "source": [
        "Let's test the agent. First, the user asks the agent for finding items. The Shop agent will call the Research agent for generating queries using Google Search Results."
      ]
    },
    {
      "cell_type": "code",
      "execution_count": 15,
      "id": "kFDWW2qExjnL",
      "metadata": {
        "colab": {
          "base_uri": "https://localhost:8080/"
        },
        "id": "kFDWW2qExjnL",
        "outputId": "d6439655-2115-437f-fd73-25e6f7aaab5e"
      },
      "outputs": [
        {
          "output_type": "stream",
          "name": "stdout",
          "text": [
            "\n",
            ">>> User Query: Can you find birthday present for 10 years old son?\n",
            "-----\n",
            "User queries: ['STEM building kits for 10 year old boys', 'LEGO sets for 10 year old boys', 'Gaming accessories for 10 year olds', 'Creative art and craft kits for boys age 10', 'Outdoor go-kart or scooter for 10 year old']\n",
            "Found: 15 items\n",
            "-----\n",
            "<<< Agent Response: Here are some birthday present ideas for your 10-year-old son:\n",
            "\n",
            "*   **Lucky Doug Building Toys Model Airplane Set - 258 Pieces DIY Building Stem Projec**\n",
            "    This building toy set includes 258 parts made of metal, such as nuts, bolts, a small screwdriver, and a wrench. It's a great STEM building kit that can withstand rough play. The model aircraft measures over 4\" high, 13.8\" long, and 15.8\" wide.\n",
            "    Image: https://u-mercari-images.mercdn.net/photos/m87990215453_1.jpg?w=200&h=200&fitcrop&sharpen\n",
            "\n",
            "*   **STEM Toys**\n",
            "    This is a 5-in-1 take-apart toy for boys aged 5-8, featuring trucks that transform into robots. It's a STEM toy perfect for kids aged 5+.\n",
            "    Image: https://u-mercari-images.mercdn.net/photos/m72066092335_1.jpg?w=200&h=200&fitcrop&sharpen\n",
            "\n",
            "*   **Science and Educational Engineering Building Block**\n",
            "    This STEAM toy is for ages 6+ and allows kids to create 12 different models.\n",
            "    Image: https://u-mercari-images.mercdn.net/photos/m14522691069_1.jpg?w=200&h=200&fitcrop&sharpen\n",
            "\n",
            "*   **70505 LEGO Ninjago The Final Battle Temple of Light**\n",
            "    This LEGO set includes Lloyd (Golden Ninja), Lord Garmadon, Sensei Wu, Scout, and Warrior.\n",
            "    Image: https://u-mercari-images.mercdn.net/photos/m74477874444_1.jpg?w=200&h=200&fitcrop&sharpen\n",
            "\n",
            "*   **4-piece LED gaming gear kit**\n",
            "    This all-inclusive kit for PC gamers includes an LED gaming keyboard, a light-up headset with boom mic, an LED mouse, and a mousepad.\n",
            "    Image: https://u-mercari-images.mercdn.net/photos/m51433449718_1.jpg?w=200&h=200&fitcrop&sharpen\n",
            "\n",
            "*   **Redragon S101 Wired Gaming Keyboard and Mouse Combo RGB Backlit Gaming Keyboard**\n",
            "    This gaming keyboard and mouse combo features an RGB backlit gaming keyboard with multimedia keys, a wrist rest, and a red backlit gaming mouse with 3200 DPI. It works great and is in excellent condition.\n",
            "    Image: https://u-mercari-images.mercdn.net/photos/m84189539791_1.jpg?w=200&h=200&fitcrop&sharpen\n",
            "\n",
            "*   **Creative Kids Rainbow Scratch Paper Craft Set - 185 Pieces Scratch Paper Art Kit**\n",
            "    This ultimate rainbow scratch paper art kit comes with more than 185 pieces, including different scratch art stencils, making it a fun and creative craft for kids.\n",
            "    Image: https://u-mercari-images.mercdn.net/photos/m75513635460_1.jpg?w=200&h=200&fitcrop&sharpen\n",
            "\n",
            "*   **Hikole 3 Wheels Scooter for Kids with Foldable and Removable Seat – Adjustable**\n",
            "    This upgraded 2-in-1 scooter has two modes: riding and sitting. The seat easily folds up and can be placed in front of the T-bar without any tools. It's suitable for toddlers as a good walk trainer and for scooting (ages 3-8). It features 3 LED light wheels and adjustable height.\n",
            "    Image: https://u-mercari-images.mercdn.net/photos/m74815149330_1.jpg?w=200&h=200&fitcrop&sharpen\n"
          ]
        }
      ],
      "source": [
        "await test_agent(\"Can you find birthday present for 10 years old son?\", shop_agent)"
      ]
    },
    {
      "cell_type": "markdown",
      "id": "lqb5_9FOog0D",
      "metadata": {
        "id": "lqb5_9FOog0D"
      },
      "source": [
        "## Summary\n",
        "\n",
        "In this tutorial, we went through the process of constructing a multi-agent system for an e-commerce platform, focusing on \"Generative Recommendations\".\n",
        "\n",
        "Through this progression, the tutorial illustrated how to build a sophisticated AI agent system that can understand user intent, perform research, generate targeted queries, and provide relevant product recommendations in an e-commerce context using ADK and external search capabilities.\n"
      ]
    }
  ],
  "metadata": {
    "colab": {
      "name": "shop_agent.ipynb",
      "provenance": []
    },
    "kernelspec": {
      "display_name": "Python 3",
      "name": "python3"
    },
    "language_info": {
      "codemirror_mode": {
        "name": "ipython",
        "version": 3
      },
      "file_extension": ".py",
      "mimetype": "text/x-python",
      "name": "python",
      "nbconvert_exporter": "python",
      "pygments_lexer": "ipython3",
      "version": "3.10.10"
    }
  },
  "nbformat": 4,
  "nbformat_minor": 5
}